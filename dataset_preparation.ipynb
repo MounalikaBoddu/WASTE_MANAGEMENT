{
 "cells": [
  {
   "cell_type": "code",
   "execution_count": 1,
   "id": "1f8b424c",
   "metadata": {},
   "outputs": [],
   "source": [
    "import os\n",
    "import pandas as pd\n",
    "import requests\n",
    "from tqdm import tqdm\n",
    "\n",
    "# === Step 1: Load CSV File ===\n",
    "csv_path = \"all_image_urls.csv\"\n",
    "\n",
    "if not os.path.exists(csv_path):\n",
    "    print(f\"❌ File '{csv_path}' not found! Please make sure it exists in your folder.\")\n",
    "    print(\"💡 To test, you can manually create 'all_image_urls.csv' with a list of image URLs.\")\n",
    "    exit()\n",
    "\n",
    "df = pd.read_csv(csv_path, header=None, names=[\"url\"])\n",
    "df = df.dropna().reset_index(drop=True)"
   ]
  },
  {
   "cell_type": "code",
   "execution_count": 4,
   "id": "7aef160b",
   "metadata": {},
   "outputs": [
    {
     "name": "stdout",
     "output_type": "stream",
     "text": [
      "\n",
      "📥 Downloading 'plastic' images...\n"
     ]
    },
    {
     "name": "stderr",
     "output_type": "stream",
     "text": [
      "100%|██████████| 50/50 [02:07<00:00,  2.55s/it]\n"
     ]
    },
    {
     "name": "stdout",
     "output_type": "stream",
     "text": [
      "\n",
      "📥 Downloading 'organic' images...\n"
     ]
    },
    {
     "name": "stderr",
     "output_type": "stream",
     "text": [
      "100%|██████████| 50/50 [02:57<00:00,  3.56s/it]\n"
     ]
    },
    {
     "name": "stdout",
     "output_type": "stream",
     "text": [
      "\n",
      "📥 Downloading 'recyclable' images...\n"
     ]
    },
    {
     "name": "stderr",
     "output_type": "stream",
     "text": [
      "  2%|▏         | 1/50 [00:16<13:24, 16.41s/it]"
     ]
    },
    {
     "name": "stdout",
     "output_type": "stream",
     "text": [
      " Error at index 100 (https://farm66.staticflickr.com/65535/47803377832_5a1210d333_o.png): ('Connection aborted.', ConnectionResetError(10054, 'An existing connection was forcibly closed by the remote host', None, 10054, None))\n"
     ]
    },
    {
     "name": "stderr",
     "output_type": "stream",
     "text": [
      "100%|██████████| 50/50 [04:40<00:00,  5.61s/it]\n"
     ]
    },
    {
     "name": "stdout",
     "output_type": "stream",
     "text": [
      "\n",
      "📥 Downloading 'hazardous' images...\n"
     ]
    },
    {
     "name": "stderr",
     "output_type": "stream",
     "text": [
      "100%|██████████| 50/50 [07:49<00:00,  9.40s/it]\n"
     ]
    }
   ],
   "source": [
    "category_ranges = {\n",
    "    \"plastic\": (0, 49),\n",
    "    \"organic\": (50, 99),\n",
    "    \"recyclable\": (100, 149),\n",
    "    \"hazardous\": (150, 199)\n",
    "}\n",
    "\n",
    "# === Step 3: Create dataset folders ===\n",
    "base_dir = \"waste_dataset\"\n",
    "os.makedirs(base_dir, exist_ok=True)\n",
    "\n",
    "# === Step 4: Download images ===\n",
    "for category, (start, end) in category_ranges.items():\n",
    "    category_dir = os.path.join(base_dir, category)\n",
    "    os.makedirs(category_dir, exist_ok=True)\n",
    "\n",
    "    print(f\"\\n📥 Downloading '{category}' images...\")\n",
    "    for i in tqdm(range(start, min(end + 1, len(df)))):\n",
    "        try:\n",
    "            url = df.loc[i, \"url\"]\n",
    "            filename = f\"{category}_{i}.jpg\"\n",
    "            save_path = os.path.join(category_dir, filename)\n",
    "\n",
    "            response = requests.get(url, timeout=5)\n",
    "            if response.status_code == 200:\n",
    "                with open(save_path, 'wb') as f:\n",
    "                    f.write(response.content)\n",
    "            else:\n",
    "                print(f\"Skipped (Status {response.status_code}): {url}\")\n",
    "        \n",
    "        except Exception as e:\n",
    "            print(f\" Error at index {i} ({url}): {e}\")"
   ]
  }
 ],
 "metadata": {
  "kernelspec": {
   "display_name": "myenv",
   "language": "python",
   "name": "python3"
  },
  "language_info": {
   "codemirror_mode": {
    "name": "ipython",
    "version": 3
   },
   "file_extension": ".py",
   "mimetype": "text/x-python",
   "name": "python",
   "nbconvert_exporter": "python",
   "pygments_lexer": "ipython3",
   "version": "3.8.5"
  }
 },
 "nbformat": 4,
 "nbformat_minor": 5
}
